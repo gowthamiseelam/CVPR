{
 "cells": [
  {
   "cell_type": "code",
   "execution_count": 9,
   "id": "797fb6c3",
   "metadata": {},
   "outputs": [],
   "source": [
    "import cv2\n",
    "import numpy as np\n",
    "\n",
    "image = cv2.imread('build.jpg')\n",
    "edges = cv2.Canny(image, 50, 150, apertureSize=3)\n",
    "lines = cv2.HoughLines(edges, 1, np.pi / 180, threshold=100)\n",
    "\n",
    "if lines is not None:\n",
    "    for rho, theta in lines[:, 0]:\n",
    "        a = np.cos(theta)\n",
    "        b = np.sin(theta)\n",
    "        x0 = a * rho\n",
    "        y0 = b * rho\n",
    "        x1 = int(x0 + 1000 * (-b))\n",
    "        y1 = int(y0 + 1000 * (a))\n",
    "        x2 = int(x0 - 1000 * (-b))\n",
    "        y2 = int(y0 - 1000 * (a))\n",
    "        cv2.line(image, (x1, y1), (x2, y2), (0, 0, 255), 2)\n",
    "\n",
    "# Display the image with detected lines\n",
    "cv2.imshow(\"Hough\",image)\n",
    "cv2.waitKey(0)\n",
    "cv2.destroyAllWindows()\n",
    "\n"
   ]
  },
  {
   "cell_type": "code",
   "execution_count": 8,
   "id": "4dd80c20",
   "metadata": {},
   "outputs": [],
   "source": [
    "import cv2\n",
    "import numpy as np\n",
    "\n",
    "img = cv2.imread('star.jpg')\n",
    "original_shape = img.shape\n",
    "data = np.float32(img.reshape(-1, 1))\n",
    "mean, eigenvectors = cv2.PCACompute(data, mean=None, maxComponents=1)\n",
    "projected = cv2.PCAProject(data, mean, eigenvectors)\n",
    "reconstructed = cv2.PCABackProject(projected, mean, eigenvectors)\n",
    "reconstructed_img = reconstructed.reshape(original_shape)\n",
    "\n",
    "cv2.imshow(\"Original\",img)\n",
    "cv2.imshow(\"PCA\",reconstructed_img)\n",
    "cv2.waitKey(0)\n",
    "cv2.destroyAllWindows()"
   ]
  },
  {
   "cell_type": "code",
   "execution_count": null,
   "id": "cc29252e",
   "metadata": {},
   "outputs": [],
   "source": []
  },
  {
   "cell_type": "code",
   "execution_count": null,
   "id": "90e79682",
   "metadata": {},
   "outputs": [],
   "source": []
  }
 ],
 "metadata": {
  "kernelspec": {
   "display_name": "Python 3",
   "language": "python",
   "name": "python3"
  },
  "language_info": {
   "codemirror_mode": {
    "name": "ipython",
    "version": 3
   },
   "file_extension": ".py",
   "mimetype": "text/x-python",
   "name": "python",
   "nbconvert_exporter": "python",
   "pygments_lexer": "ipython3",
   "version": "3.8.8"
  }
 },
 "nbformat": 4,
 "nbformat_minor": 5
}
