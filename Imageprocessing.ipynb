{
 "cells": [
  {
   "cell_type": "code",
   "execution_count": 3,
   "metadata": {},
   "outputs": [],
   "source": [
    "import cv2\n",
    "import numpy as np\n",
    "from matplotlib import pyplot as plt\n",
    " \n",
    "image = cv2.imread('flower.webp')\n",
    "img=cv2.resize(image,(400,400))\n",
    "if img is None:\n",
    "    print(\"Image Not Found\")\n",
    "blur = cv2.GaussianBlur(img,(5,5),12)\n",
    "cv2.imshow(\"Original Image\",img)\n",
    "cv2.imshow(\"Gaussian Filter\",blur)\n",
    "cv2.waitKey(0)\n",
    "cv2.destroyAllWindows()\n"
   ]
  },
  {
   "cell_type": "code",
   "execution_count": 4,
   "metadata": {},
   "outputs": [],
   "source": [
    "import cv2\n",
    "import numpy as np\n",
    "from matplotlib import pyplot as plt\n",
    " \n",
    "image= cv2.imread('flower.webp')\n",
    "img=cv2.resize(image,(400,400))\n",
    "if img is None:\n",
    "    print(\"Image Not Found\")\n",
    "blur = cv2.medianBlur(img,7)\n",
    "cv2.imshow(\"Original Image\",img)\n",
    "cv2.imshow(\"Median Filter\",blur)\n",
    "cv2.waitKey(0)\n",
    "cv2.destroyAllWindows()\n"
   ]
  },
  {
   "cell_type": "code",
   "execution_count": 5,
   "metadata": {},
   "outputs": [],
   "source": [
    "import cv2\n",
    "import numpy as np\n",
    "from matplotlib import pyplot as plt\n",
    "\n",
    "\n",
    "image = cv2.imread('lion.jpg', 0)\n",
    "image=cv2.resize(image,(400,400))\n",
    "kernel = np.ones((5,5), np.uint8)\n",
    "erosion = cv2.erode(image, kernel, iterations=1)\n",
    "dilation = cv2.dilate(image, kernel, iterations=1)\n",
    "opening = cv2.morphologyEx(image, cv2.MORPH_OPEN, kernel)\n",
    "closing = cv2.morphologyEx(image, cv2.MORPH_CLOSE, kernel)\n",
    "\n",
    "cv2.imshow(\"Original\",image)\n",
    "cv2.imshow(\"Erosion\",erosion)\n",
    "cv2.imshow(\"Dilation\",dilation)\n",
    "cv2.imshow(\"Opening\",opening)\n",
    "cv2.imshow(\"Closing\",closing) \n",
    "\n",
    "cv2.waitKey(0)\n",
    "cv2.destroyAllWindows()"
   ]
  },
  {
   "cell_type": "code",
   "execution_count": 6,
   "metadata": {},
   "outputs": [],
   "source": [
    "import cv2\n",
    "import numpy as np\n",
    "\n",
    "image = cv2.imread('lion.jpg')\n",
    "rgb_image = cv2.cvtColor(image, cv2.COLOR_BGR2RGB)\n",
    "cmy_image = 1 - rgb_image / 255.0 \n",
    "hsv_image = cv2.cvtColor(rgb_image, cv2.COLOR_RGB2HSV)\n",
    "cmy_image = (cmy_image * 255).astype(np.uint8)\n",
    "\n",
    "cv2.imshow('original',image)\n",
    "cv2.imshow('CMY Image', cmy_image)\n",
    "cv2.imshow('HSV Image', hsv_image)\n",
    "\n",
    "cv2.waitKey(0)\n",
    "cv2.destroyAllWindows()\n"
   ]
  },
  {
   "cell_type": "code",
   "execution_count": 9,
   "metadata": {},
   "outputs": [],
   "source": [
    "import cv2\n",
    "import numpy as np\n",
    "import matplotlib.pyplot as plt\n",
    "\n",
    "image = cv2.imread('lion.jpg',0)\n",
    "_, binary_image = cv2.threshold(image, 127, 255, cv2.THRESH_BINARY)\n",
    "kernel = np.ones((3, 3), np.uint8)\n",
    "hit = cv2.erode(binary_image, kernel)\n",
    "miss = cv2.erode(binary_image, cv2.bitwise_not(kernel))\n",
    "hit_miss_result = cv2.bitwise_and(hit, miss)\n",
    "cv2.imshow('original',binary_image)\n",
    "cv2.imshow(\"hit\",hit)\n",
    "cv2.imshow(\"miss\",miss)\n",
    "cv2.imshow(\"hit_miss_result\",hit_miss_result)\n",
    "cv2.waitKey(0)\n",
    "cv2.destroyAllWindows()"
   ]
  },
  {
   "cell_type": "code",
   "execution_count": 15,
   "metadata": {},
   "outputs": [],
   "source": [
    "import cv2\n",
    "import numpy as np\n",
    "import matplotlib.pyplot as plt\n",
    "\n",
    "image = cv2.imread('image.jpg',0)\n",
    "blurred_image = cv2.GaussianBlur(image, (3, 3), 0)\n",
    "laplacian_edges = cv2.Laplacian(blurred_image, cv2.CV_64F)\n",
    "laplacian_edges = cv2.convertScaleAbs(laplacian_edges)\n",
    "cv2.imshow('Original',image)\n",
    "cv2.imshow(\"laplacian_edges\", laplacian_edges)\n",
    "cv2.waitKey(0)\n",
    "cv2.destroyAllWindows()\n"
   ]
  },
  {
   "cell_type": "code",
   "execution_count": 16,
   "metadata": {},
   "outputs": [],
   "source": [
    "import cv2\n",
    "import numpy as np\n",
    "import matplotlib.pyplot as plt\n",
    "\n",
    "image = cv2.imread('image.jpg', cv2.IMREAD_GRAYSCALE)\n",
    "blurred_image = cv2.GaussianBlur(image, (3, 3), 0)\n",
    "sobel_x = cv2.Sobel(blurred_image, cv2.CV_64F, 1, 0, ksize=3)\n",
    "sobel_y = cv2.Sobel(blurred_image, cv2.CV_64F, 0, 1, ksize=3)\n",
    "sobel_edges = cv2.magnitude(sobel_x, sobel_y)\n",
    "sobel_edges = cv2.convertScaleAbs(sobel_edges)\n",
    "cv2.imshow('Original',image)\n",
    "cv2.imshow(\"sobel_edges\", sobel_edges)\n",
    "cv2.waitKey(0)\n",
    "cv2.destroyAllWindows()"
   ]
  },
  {
   "cell_type": "code",
   "execution_count": 21,
   "metadata": {},
   "outputs": [],
   "source": [
    "import cv2\n",
    "import numpy as np\n",
    "import matplotlib.pyplot as plt\n",
    "\n",
    "image = cv2.imread('image.jpg', cv2.IMREAD_GRAYSCALE)\n",
    "blurred_image = cv2.GaussianBlur(image, (3, 3), 0)\n",
    "prewitt_kernel_x = np.array([[1, 0, -1], [1, 0, -1], [1, 0, -1]])\n",
    "prewitt_kernel_y = np.array([[1, 1, 1], [0, 0, 0], [-1, -1, -1]])\n",
    "prewitt_x = cv2.filter2D(blurred_image, -1, prewitt_kernel_x)\n",
    "prewitt_y = cv2.filter2D(blurred_image, -1, prewitt_kernel_y)\n",
    "prewitt_x = np.float64(prewitt_x)\n",
    "prewitt_y = np.float64(prewitt_y)\n",
    "prewitt_edges = cv2.magnitude(prewitt_x, prewitt_y)\n",
    "prewitt_edges = cv2.convertScaleAbs(prewitt_edges)\n",
    "\n",
    "cv2.imshow('prewitt_edges', prewitt_edges)\n",
    "cv2.waitKey(0)\n",
    "cv2.destroyAllWindows()\n",
    "\n"
   ]
  },
  {
   "cell_type": "code",
   "execution_count": null,
   "metadata": {},
   "outputs": [],
   "source": []
  }
 ],
 "metadata": {
  "kernelspec": {
   "display_name": "Python 3",
   "language": "python",
   "name": "python3"
  },
  "language_info": {
   "codemirror_mode": {
    "name": "ipython",
    "version": 3
   },
   "file_extension": ".py",
   "mimetype": "text/x-python",
   "name": "python",
   "nbconvert_exporter": "python",
   "pygments_lexer": "ipython3",
   "version": "3.8.5"
  }
 },
 "nbformat": 4,
 "nbformat_minor": 4
}
