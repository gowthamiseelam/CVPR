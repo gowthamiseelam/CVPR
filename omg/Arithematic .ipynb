{
 "cells": [
  {
   "cell_type": "code",
   "execution_count": 9,
   "id": "7ae22af1",
   "metadata": {},
   "outputs": [],
   "source": [
    " \n",
    "import cv2 \n",
    "import numpy as np \n",
    "image1 = cv2.imread('star.jpg') \n",
    "image2 = cv2.imread('build.jpg') \n",
    "img1=cv2.resize(image1,(500,500))\n",
    "img2=cv2.resize(image2,(500,500))\n",
    "weightedSum = cv2.addWeighted(img1, 0.5, img2, 0.4, 0) \n",
    "cv2.imshow('Weighted Image', weightedSum) \n",
    "if cv2.waitKey(0) & 0xff == 27: \n",
    "\tcv2.destroyAllWindows() \n"
   ]
  },
  {
   "cell_type": "code",
   "execution_count": 10,
   "id": "cd491715",
   "metadata": {},
   "outputs": [],
   "source": [
    " \n",
    "import cv2 \n",
    "import numpy as np \n",
    "image1 = cv2.imread('star.jpg') \n",
    "image2 = cv2.imread('build.jpg') \n",
    "img1=cv2.resize(image1,(500,500))\n",
    "img2=cv2.resize(image2,(500,500))\n",
    "sub= cv2.subtract(img1,img2) \n",
    "cv2.imshow('Weighted Image', sub) \n",
    "if cv2.waitKey(0) & 0xff == 27: \n",
    "\tcv2.destroyAllWindows() \n"
   ]
  },
  {
   "cell_type": "code",
   "execution_count": 11,
   "id": "6915a2b0",
   "metadata": {},
   "outputs": [],
   "source": [
    " \n",
    "import cv2 \n",
    "import numpy as np \n",
    "image1 = cv2.imread('star.jpg') \n",
    "image2 = cv2.imread('build.jpg') \n",
    "img1=cv2.resize(image1,(500,500))\n",
    "img2=cv2.resize(image2,(500,500))\n",
    "sub= cv2.multiply(img1,img2) \n",
    "cv2.imshow('Weighted Image', sub) \n",
    "if cv2.waitKey(0) & 0xff == 27: \n",
    "\tcv2.destroyAllWindows() \n"
   ]
  },
  {
   "cell_type": "code",
   "execution_count": 12,
   "id": "5d484d20",
   "metadata": {},
   "outputs": [],
   "source": [
    " \n",
    "import cv2 \n",
    "import numpy as np \n",
    "image1 = cv2.imread('star.jpg') \n",
    "image2 = cv2.imread('build.jpg') \n",
    "img1=cv2.resize(image1,(500,500))\n",
    "img2=cv2.resize(image2,(500,500))\n",
    "sub= cv2.divide(img1,img2) \n",
    "cv2.imshow('Weighted Image', sub) \n",
    "if cv2.waitKey(0) & 0xff == 27: \n",
    "\tcv2.destroyAllWindows() \n"
   ]
  },
  {
   "cell_type": "code",
   "execution_count": null,
   "id": "76505248",
   "metadata": {},
   "outputs": [],
   "source": []
  }
 ],
 "metadata": {
  "kernelspec": {
   "display_name": "Python 3",
   "language": "python",
   "name": "python3"
  },
  "language_info": {
   "codemirror_mode": {
    "name": "ipython",
    "version": 3
   },
   "file_extension": ".py",
   "mimetype": "text/x-python",
   "name": "python",
   "nbconvert_exporter": "python",
   "pygments_lexer": "ipython3",
   "version": "3.8.8"
  }
 },
 "nbformat": 4,
 "nbformat_minor": 5
}
