{
 "cells": [
  {
   "cell_type": "code",
   "execution_count": null,
   "metadata": {
    "vscode": {
     "languageId": "plaintext"
    }
   },
   "outputs": [],
   "source": [
    "# Python program to illustrate \n",
    "# arithmetic operation of \n",
    "# addition of two images \n",
    "\t\n",
    "# organizing imports \n",
    "import cv2 \n",
    "import numpy as np \n",
    "\t\n",
    "# path to input images are specified and \n",
    "# images are loaded with imread command \n",
    "image1 = cv2.imread('input1.jpg') \n",
    "image2 = cv2.imread('input2.jpg') \n",
    "\n",
    "# cv2.addWeighted is applied over the \n",
    "# image inputs with applied parameters \n",
    "weightedSum = cv2.addWeighted(image1, 0.5, image2, 0.4, 0) \n",
    "\n",
    "# the window showing output image \n",
    "# with the weighted sum \n",
    "cv2.imshow('Weighted Image', weightedSum) \n",
    "\n",
    "# De-allocate any associated memory usage \n",
    "if cv2.waitKey(0) & 0xff == 27: \n",
    "\tcv2.destroyAllWindows() \n"
   ]
  },
  {
   "cell_type": "code",
   "execution_count": null,
   "metadata": {
    "vscode": {
     "languageId": "plaintext"
    }
   },
   "outputs": [],
   "source": []
  },
  {
   "cell_type": "code",
   "execution_count": null,
   "metadata": {
    "vscode": {
     "languageId": "plaintext"
    }
   },
   "outputs": [],
   "source": []
  }
 ],
 "metadata": {
  "language_info": {
   "name": "python"
  }
 },
 "nbformat": 4,
 "nbformat_minor": 2
}
