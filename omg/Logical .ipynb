{
 "cells": [
  {
   "cell_type": "code",
   "execution_count": 9,
   "id": "755d6d3d",
   "metadata": {},
   "outputs": [],
   "source": [
    "import cv2 \n",
    "import numpy as np \n",
    "image1 = cv2.imread('build.jpg') \n",
    "image2 = cv2.imread('star.jpg')\n",
    "img1=cv2.resize(image1,(500,500))\n",
    "img2=cv2.resize(image2,(500,500))\n",
    "dest_and = cv2.bitwise_and(img2, img1, mask = None)  \n",
    "cv2.imshow('Bitwise And', dest_and) \n",
    "if cv2.waitKey(0) & 0xff == 27: \n",
    "\tcv2.destroyAllWindows() "
   ]
  },
  {
   "cell_type": "code",
   "execution_count": 6,
   "id": "49422f50",
   "metadata": {},
   "outputs": [],
   "source": [
    "import cv2 \n",
    "import numpy as np \n",
    "image1 = cv2.imread('build.jpg') \n",
    "image2 = cv2.imread('star.jpg')\n",
    "img1=cv2.resize(image1,(500,500))\n",
    "img2=cv2.resize(image2,(500,500))\n",
    "dest_and = cv2.bitwise_or(img2, img1, mask = None)  \n",
    "cv2.imshow('Bitwise OR', dest_and) \n",
    "if cv2.waitKey(0) & 0xff == 27: \n",
    "\tcv2.destroyAllWindows() "
   ]
  },
  {
   "cell_type": "code",
   "execution_count": 8,
   "id": "69c8b69d",
   "metadata": {},
   "outputs": [],
   "source": [
    "import cv2 \n",
    "import numpy as np \n",
    "image1 = cv2.imread('build.jpg') \n",
    "image2 = cv2.imread('star.jpg')\n",
    "img1=cv2.resize(image1,(500,500))\n",
    "img2=cv2.resize(image2,(500,500))\n",
    "dest_and = cv2.bitwise_not(img2, img1, mask = None)  \n",
    "cv2.imshow('Bitwise Not', dest_and) \n",
    "if cv2.waitKey(0) & 0xff == 27: \n",
    "\tcv2.destroyAllWindows() "
   ]
  },
  {
   "cell_type": "code",
   "execution_count": 10,
   "id": "02436c26",
   "metadata": {},
   "outputs": [],
   "source": [
    "import cv2 \n",
    "import numpy as np \n",
    "image1 = cv2.imread('build.jpg') \n",
    "image2 = cv2.imread('star.jpg')\n",
    "img1=cv2.resize(image1,(500,500))\n",
    "img2=cv2.resize(image2,(500,500))\n",
    "dest_and = cv2.bitwise_xor(img2, img1, mask = None)  \n",
    "cv2.imshow('Bitwise Xor', dest_and) \n",
    "if cv2.waitKey(0) & 0xff == 27: \n",
    "\tcv2.destroyAllWindows() "
   ]
  },
  {
   "cell_type": "code",
   "execution_count": null,
   "id": "a2f261ca",
   "metadata": {},
   "outputs": [],
   "source": []
  }
 ],
 "metadata": {
  "kernelspec": {
   "display_name": "Python 3",
   "language": "python",
   "name": "python3"
  },
  "language_info": {
   "codemirror_mode": {
    "name": "ipython",
    "version": 3
   },
   "file_extension": ".py",
   "mimetype": "text/x-python",
   "name": "python",
   "nbconvert_exporter": "python",
   "pygments_lexer": "ipython3",
   "version": "3.8.8"
  }
 },
 "nbformat": 4,
 "nbformat_minor": 5
}
